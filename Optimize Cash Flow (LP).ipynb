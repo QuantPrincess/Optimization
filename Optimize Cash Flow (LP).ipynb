{
 "cells": [
  {
   "cell_type": "code",
   "execution_count": 2,
   "id": "65f3a633",
   "metadata": {},
   "outputs": [],
   "source": [
    "import pandas as pd\n",
    "import numpy as np\n",
    "from ortools.linear_solver import pywraplp"
   ]
  },
  {
   "cell_type": "markdown",
   "id": "ca3fa432",
   "metadata": {},
   "source": [
    "## Cash flow"
   ]
  },
  {
   "cell_type": "code",
   "execution_count": 4,
   "id": "e2929ff7",
   "metadata": {},
   "outputs": [
    {
     "name": "stdout",
     "output_type": "stream",
     "text": [
      "Solution:\n",
      "Objective value = $ 123560.42736747622\n",
      "x1 = 200000.0\n",
      "x2 = 221174.8865506408\n",
      "y1 = 0.0\n",
      "y2 = 181325.11344935917\n",
      "y3 = 87716.30180022937\n",
      "y4 = 0.0\n",
      "y5 = 0.0\n"
     ]
    }
   ],
   "source": [
    "def LinearProgrammingExample():\n",
    "    solver = pywraplp.Solver.CreateSolver('GLOP')\n",
    "    if not solver:\n",
    "        return\n",
    "\n",
    "    x1 = solver.NumVar(0, solver.infinity(), 'x1')\n",
    "    x2 = solver.NumVar(0, solver.infinity(), 'x2')\n",
    "    y1 = solver.NumVar(0, solver.infinity(), 'y1')\n",
    "    y2= solver.NumVar(0, solver.infinity(), 'y2')\n",
    "    y3 = solver.NumVar(0, solver.infinity(), 'y3')\n",
    "    y4 = solver.NumVar(0, solver.infinity(), 'y4')\n",
    "    y5 = solver.NumVar(0, solver.infinity(), 'y5')\n",
    "\n",
    "\n",
    "    z1=solver.NumVar(0, solver.infinity(), 'z1')\n",
    "    z2=solver.NumVar(0, solver.infinity(), 'z2')\n",
    "    z3=solver.NumVar(0, solver.infinity(), 'z3')\n",
    "    z4=solver.NumVar(0, solver.infinity(), 'z4')\n",
    "    z5=solver.NumVar(0, solver.infinity(), 'z5')\n",
    "    z6=solver.NumVar(0, solver.infinity(), 'z6')\n",
    "\n",
    "\n",
    "\n",
    "    solver.Add(x1 + y1-z1 == 200)\n",
    "\n",
    "    solver.Add((-0.0125*x1)+x2+y2-(1.02)*y1+z1-z2==400)\n",
    "\n",
    "    solver.Add((-0.0125*x2)+y3-(1.02)*y2+z2-z3==-100)\n",
    "\n",
    "    solver.Add(-0.0125*(x1+x2)-1.02*y3+z3-z4 == -100)\n",
    "\n",
    "    solver.Add(-0.0125*(x1+x2)-1.02*y4+z4-z5==0)\n",
    "\n",
    "    solver.Add(-1.0125*(x1+x2)-1.02*y5+z5-z6==-550)\n",
    "\n",
    "    solver.Maximize(z6)\n",
    "\n",
    "    status = solver.Solve()\n",
    "\n",
    "    if status == pywraplp.Solver.OPTIMAL:\n",
    "        print('Solution:')\n",
    "        print('Objective value =', '$',1000*solver.Objective().Value())\n",
    "        print('x1 =', 1000*x1.solution_value())\n",
    "        print('x2 =', 1000*x2.solution_value())\n",
    "        print('y1 =', 1000*y1.solution_value())\n",
    "        print('y2 =', 1000*y2.solution_value())\n",
    "        print('y3 =', 1000*y3.solution_value())\n",
    "        print('y4 =', 1000*y4.solution_value())\n",
    "        print('y5 =', 1000*y5.solution_value())\n",
    "        \n",
    "    else:\n",
    "        print('No optimal solution.')\n",
    "LinearProgrammingExample()"
   ]
  }
 ],
 "metadata": {
  "kernelspec": {
   "display_name": "Python 3 (ipykernel)",
   "language": "python",
   "name": "python3"
  },
  "language_info": {
   "codemirror_mode": {
    "name": "ipython",
    "version": 3
   },
   "file_extension": ".py",
   "mimetype": "text/x-python",
   "name": "python",
   "nbconvert_exporter": "python",
   "pygments_lexer": "ipython3",
   "version": "3.9.7"
  }
 },
 "nbformat": 4,
 "nbformat_minor": 5
}
